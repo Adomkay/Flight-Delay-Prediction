{
 "cells": [
  {
   "cell_type": "code",
   "execution_count": 19,
   "metadata": {},
   "outputs": [],
   "source": [
    "import pandas as pd\n",
    "import numpy as np\n",
    "from matplotlib import pyplot as plt\n",
    "import matplotlib\n",
    "matplotlib.style.use('ggplot')\n",
    "\n",
    "%matplotlib inline\n",
    "\n",
    "import time\n",
    "from scipy.stats import randint as sp_randint\n",
    "import seaborn as sns\n",
    "\n",
    "import sklearn\n",
    "from sklearn.preprocessing import OneHotEncoder\n",
    "from sklearn.ensemble import RandomForestClassifier\n",
    "from sklearn.mixture import GaussianMixture\n",
    "from sklearn.model_selection import RandomizedSearchCV, GridSearchCV\n",
    "from sklearn.model_selection import cross_val_score, train_test_split\n",
    "from sklearn import metrics\n",
    "\n",
    "from sklearn.metrics import roc_auc_score, roc_curve, auc, classification_report\n",
    "from sklearn.metrics import f1_score, precision_score, recall_score\n",
    "from sklearn.metrics import mean_squared_error, cohen_kappa_score, make_scorer\n",
    "from sklearn.metrics import confusion_matrix, accuracy_score, average_precision_score\n",
    "from sklearn.metrics import precision_recall_curve, SCORERS\n",
    "from sklearn.model_selection import learning_curve\n",
    "from sklearn.model_selection import ShuffleSplit\n",
    "from sklearn.externals import joblib\n",
    "from operator import itemgetter\n",
    "\n",
    "import xgboost\n",
    "from xgboost import XGBClassifier\n",
    "from sklearn.linear_model import LogisticRegression\n",
    "from sklearn.ensemble import RandomForestClassifier, GradientBoostingClassifier, AdaBoostClassifier\n",
    "from sklearn.svm import SVC\n",
    "\n",
    "from tabulate import tabulate\n",
    "from datetime import datetime"
   ]
  },
  {
   "cell_type": "code",
   "execution_count": 20,
   "metadata": {},
   "outputs": [],
   "source": [
    "def timer(start_time=None):\n",
    "    if not start_time:\n",
    "        start_time = datetime.now()\n",
    "        return start_time\n",
    "    elif start_time:\n",
    "        thour, temp_sec = divmod((datetime.now() - start_time).total_seconds(), 3600)\n",
    "        tmin, tsec = divmod(temp_sec, 60)\n",
    "        print('\\n Time taken: %i hours %i minutes and %s seconds.' % (thour, tmin, round(tsec, 2)))"
   ]
  },
  {
   "cell_type": "code",
   "execution_count": 8,
   "metadata": {},
   "outputs": [],
   "source": [
    "data = pd.read_csv('diabetes.csv')\n",
    "n_features = len(data.columns)\n",
    "target = data['Outcome']\n",
    "data.drop(columns = 'Outcome', inplace = True)\n",
    "x_train, x_test, y_train, y_test = train_test_split(data, target, test_size=0.2, random_state=12)"
   ]
  },
  {
   "cell_type": "code",
   "execution_count": 9,
   "metadata": {},
   "outputs": [],
   "source": [
    "def classification_model(model, x_train, x_test, y_train, y_test):\n",
    "    model_ = model\n",
    "    model_.fit(x_train, y_train)\n",
    "    y_hat_test = model_.predict(x_test)\n",
    "    model_y_score = model_.decision_function(x_test)\n",
    "#     model_y_score = model_.predict_proba(x_test)[:, 0]\n",
    "    fpr, tpr, thresholds = metrics.roc_curve(y_test, model_y_score)\n",
    "    return model_, fpr, tpr, thresholds, y_hat_test"
   ]
  },
  {
   "cell_type": "code",
   "execution_count": 10,
   "metadata": {},
   "outputs": [],
   "source": [
    "def Print_confusion_matrix():\n",
    "    cm = confusion_matrix(y_test, y_pred)\n",
    "    print(cm)\n",
    "    true_negative  = cm[0,0]\n",
    "    true_positive  = cm[1,1]\n",
    "    false_negative = cm[1,0]\n",
    "    false_positive = cm[0,1]\n",
    "#     tpr = true_positive/(true_positive + false_negative)\n",
    "#     fpr = false_positive/(false_positive + true_negative)\n",
    "    total = true_negative + true_positive + false_negative + false_positive\n",
    "    accuracy = (true_positive + true_negative)/total\n",
    "    precision = (true_positive)/(true_positive + false_positive)\n",
    "    recall = (true_positive)/(true_positive + false_negative)\n",
    "    misclassification_rate = (false_positive + false_negative)/total\n",
    "    F1 = (2*true_positive)/(2*true_positive + false_positive + false_negative)\n",
    "    print('accuracy.................%7.4f' % accuracy)\n",
    "    print('precision................%7.4f' % precision)\n",
    "    print('recall...................%7.4f' % recall)\n",
    "    print('F1.......................%7.4f' % F1)\n",
    "    print('auc......................%7.4f' % auc(fpr, tpr))"
   ]
  },
  {
   "cell_type": "code",
   "execution_count": 29,
   "metadata": {},
   "outputs": [],
   "source": [
    "def plot_roc_curve(fpr, tpr):\n",
    "    sns.set_style(\"darkgrid\", {\"axes.facecolor\": \".9\"})\n",
    "\n",
    "    print('AUC: {}'.format(metrics.auc(fpr, tpr)))\n",
    "    plt.figure(figsize=(8,6))\n",
    "    lw = 2\n",
    "    plt.plot(fpr, tpr, color='darkorange',\n",
    "             lw=lw, label='ROC curve')\n",
    "    plt.plot([0, 1], [0, 1], color='navy', lw=lw, linestyle='--')\n",
    "    plt.xlim([0.0, 1.0])\n",
    "    plt.ylim([0.0, 1.05])\n",
    "    plt.yticks([i/20.0 for i in range(21)])\n",
    "    plt.xticks([i/20.0 for i in range(21)])\n",
    "    plt.xlabel('False Positive Rate')\n",
    "    plt.ylabel('True Positive Rate')\n",
    "    plt.title('Receiver operating characteristic (ROC) Curve')\n",
    "    plt.legend(loc=\"lower right\")\n",
    "    plt.show()\n",
    "    return"
   ]
  },
  {
   "cell_type": "code",
   "execution_count": 12,
   "metadata": {},
   "outputs": [],
   "source": [
    "# Model Parameter Grids Ranges\n",
    "\n",
    "#Logistic Regression\n",
    "param_grid1 = {'C': [0.001, 0.01, 0.1, 1, 10] }\n",
    "\n",
    "#Random Forest\n",
    "param_grid2 = {\"n_estimators\": range(20, 100, 2),\n",
    "                  \"max_depth\": range(4, 40, 2),\n",
    "                  \"min_samples_leaf\": range(2, 100, 2),\n",
    "                  \"max_features\": range(1, n_features+1),\n",
    "                  \"min_samples_split\": range(2, 10),\n",
    "                  \"bootstrap\": [True],\n",
    "                  \"criterion\": [\"gini\", \"entropy\"]}\n",
    "\n",
    "#Gradient Boost\n",
    "param_grid3 = {'n_estimators': [500],\n",
    "                  'learning_rate':[0.001, 0.01,0.1],\n",
    "                  'max_depth': [4,40,2],\n",
    "                  'min_samples_leaf': range(2, 100, 2),\n",
    "                  'min_samples_split': range(2, 10),\n",
    "                  'max_features': range(1, n_features+1)}\n",
    "\n",
    "#XGBoost\n",
    "param_grid4 = {'min_child_weight': [1, 5, 10],\n",
    "                   'learning_rate':[0.001, 0.01,0.1],\n",
    "                   'gamma': [0.5, 1, 1.5, 2, 5],\n",
    "                   'subsample': [0.6, 0.8, 1.0],\n",
    "                   'colsample_bytree': [0.6, 0.8, 1.0],\n",
    "                   'max_depth': [3, 4, 5]}\n",
    "\n",
    "#AdaBoost\n",
    "param_grid5 = {\"base_estimator__criterion\" : [\"gini\", \"entropy\"],\n",
    "                   'learning_rate':[0.001, 0.01,0.1],\n",
    "                   \"base_estimator__splitter\" :   [\"best\", \"random\"],\n",
    "                   \"n_estimators\": [1, 2]}"
   ]
  },
  {
   "cell_type": "code",
   "execution_count": null,
   "metadata": {},
   "outputs": [],
   "source": []
  },
  {
   "cell_type": "code",
   "execution_count": 36,
   "metadata": {},
   "outputs": [],
   "source": [
    "def grid_search(clf, param_grid):\n",
    "    global best_model, saved_model\n",
    "    cv = ShuffleSplit(n_splits = 15, test_size = 0.20, random_state = 2)\n",
    "    n_iter_search = 500\n",
    "    estimator = GridSearchCV(clf,\n",
    "                                   param_grid = param_grid,\n",
    "                                   scoring = 'roc_auc',\n",
    "                                   verbose = 0,\n",
    "                                   cv = cv,\n",
    "                                   n_jobs = 3)\n",
    "        \n",
    "    fit = estimator.fit(x_train, y_train)\n",
    "    \n",
    "    best_model = estimator.best_estimator_\n",
    "    print('\\nbest_model:\\n', best_model)\n",
    "\n",
    "#     print('\\nFeature Importances:', best_model.feature_importances_)\n",
    "    \n",
    "    y_predicted = best_model.predict(x_train)\n",
    "    probabilities = best_model.predict_proba(x_test)\n",
    "    y_score = best_model.decision_function(x_test)\n",
    "    fpr, tpr, thresholds = metrics.roc_curve(y_test, y_score)\n",
    "    \n",
    "    plot_roc_curve(fpr, tpr)\n",
    "    \n",
    "    c_report = classification_report(y_train, y_predicted)\n",
    "    print('\\nClassification report:\\n', c_report)\n",
    "    return best_model, fit, probabilities, c_report, fpr, tpr, thresholds\n",
    "    "
   ]
  },
  {
   "cell_type": "markdown",
   "metadata": {},
   "source": [
    "## Random Forest Classifier"
   ]
  },
  {
   "cell_type": "markdown",
   "metadata": {},
   "source": [
    "## Logistic Regression (has decision function)"
   ]
  },
  {
   "cell_type": "code",
   "execution_count": 39,
   "metadata": {},
   "outputs": [
    {
     "name": "stdout",
     "output_type": "stream",
     "text": [
      "\n",
      "best_model:\n",
      " LogisticRegression(C=10, class_weight='balanced', dual=False,\n",
      "          fit_intercept=True, intercept_scaling=1, max_iter=100,\n",
      "          multi_class='ovr', n_jobs=1, penalty='l2', random_state=None,\n",
      "          solver='liblinear', tol=0.0001, verbose=0, warm_start=False)\n",
      "AUC: 0.8337924701561065\n"
     ]
    },
    {
     "data": {
      "image/png": "[encoded data removed]",
      "text/plain": [
       "<Figure size 576x432 with 1 Axes>"
      ]
     },
     "metadata": {},
     "output_type": "display_data"
    },
    {
     "name": "stdout",
     "output_type": "stream",
     "text": [
      "\n",
      "Classification report:\n",
      "              precision    recall  f1-score   support\n",
      "\n",
      "          0       0.85      0.77      0.81       401\n",
      "          1       0.63      0.75      0.69       213\n",
      "\n",
      "avg / total       0.78      0.76      0.77       614\n",
      "\n",
      "\n",
      " Time taken: 0 hours 0 minutes and 0.91 seconds.\n"
     ]
    }
   ],
   "source": [
    "start_time = timer(None)\n",
    "grid_search(LogisticRegression(class_weight = 'balanced'), param_grid1)\n",
    "timer(start_time)"
   ]
  },
  {
   "cell_type": "code",
   "execution_count": null,
   "metadata": {},
   "outputs": [],
   "source": [
    "data = pd.read_csv('diabetes.csv')"
   ]
  },
  {
   "cell_type": "code",
   "execution_count": null,
   "metadata": {},
   "outputs": [],
   "source": [
    "n_features = len(data.columns)"
   ]
  },
  {
   "cell_type": "code",
   "execution_count": null,
   "metadata": {},
   "outputs": [],
   "source": [
    "n_features"
   ]
  },
  {
   "cell_type": "code",
   "execution_count": null,
   "metadata": {},
   "outputs": [],
   "source": [
    "target = data['Outcome']\n",
    "data.drop(columns = 'Outcome', inplace = True)"
   ]
  },
  {
   "cell_type": "code",
   "execution_count": null,
   "metadata": {},
   "outputs": [],
   "source": [
    "x_train, x_test, y_train, y_test = train_test_split(data, target, test_size=0.2, random_state=12)"
   ]
  },
  {
   "cell_type": "code",
   "execution_count": null,
   "metadata": {},
   "outputs": [],
   "source": [
    "model_, fpr, tpr, thresholds, y_pred = classification_model(LogisticRegression(class_weight = 'balanced'), x_train, x_test, y_train, y_test)"
   ]
  },
  {
   "cell_type": "code",
   "execution_count": null,
   "metadata": {},
   "outputs": [],
   "source": [
    "Print_confusion_matrix()\n",
    "plot_roc_curve()"
   ]
  },
  {
   "cell_type": "markdown",
   "metadata": {},
   "source": [
    "## AdaBoostClassifier (has decision function)"
   ]
  },
  {
   "cell_type": "code",
   "execution_count": null,
   "metadata": {},
   "outputs": [],
   "source": [
    "model_, fpr, tpr, thresholds, y_pred = classification_model(AdaBoostClassifier(), x_train, x_test, y_train, y_test)"
   ]
  },
  {
   "cell_type": "code",
   "execution_count": null,
   "metadata": {},
   "outputs": [],
   "source": [
    "Print_confusion_matrix()\n",
    "plot_roc_curve()"
   ]
  },
  {
   "cell_type": "markdown",
   "metadata": {},
   "source": [
    "## GradientBoostClassifier (has decision function)"
   ]
  },
  {
   "cell_type": "code",
   "execution_count": null,
   "metadata": {},
   "outputs": [],
   "source": [
    "model_, fpr, tpr, thresholds, y_pred = classification_model(GradientBoostingClassifier(), x_train, x_test, y_train, y_test)"
   ]
  },
  {
   "cell_type": "code",
   "execution_count": null,
   "metadata": {},
   "outputs": [],
   "source": [
    "Print_confusion_matrix()\n",
    "plot_roc_curve()"
   ]
  },
  {
   "cell_type": "markdown",
   "metadata": {},
   "source": [
    "## SVC (has decision function)"
   ]
  },
  {
   "cell_type": "code",
   "execution_count": null,
   "metadata": {},
   "outputs": [],
   "source": [
    "model_, fpr, tpr, thresholds, y_pred = classification_model(SVC(), x_train, x_test, y_train, y_test)\n",
    "Print_confusion_matrix()\n",
    "plot_roc_curve()"
   ]
  },
  {
   "cell_type": "code",
   "execution_count": null,
   "metadata": {},
   "outputs": [],
   "source": []
  }
 ],
 "metadata": {
  "kernelspec": {
   "display_name": "Python 3",
   "language": "python",
   "name": "python3"
  },
  "language_info": {
   "codemirror_mode": {
    "name": "ipython",
    "version": 3
   },
   "file_extension": ".py",
   "mimetype": "text/x-python",
   "name": "python",
   "nbconvert_exporter": "python",
   "pygments_lexer": "ipython3",
   "version": "3.6.5"
  }
 },
 "nbformat": 4,
 "nbformat_minor": 2
}
